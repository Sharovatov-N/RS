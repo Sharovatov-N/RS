{
 "cells": [
  {
   "cell_type": "markdown",
   "metadata": {},
   "source": [
    "## Урок 1"
   ]
  },
  {
   "cell_type": "markdown",
   "metadata": {},
   "source": [
    "### Практическое задание:"
   ]
  },
  {
   "cell_type": "code",
   "execution_count": 1,
   "metadata": {},
   "outputs": [],
   "source": [
    "import pandas as pd\n",
    "import numpy as np"
   ]
  },
  {
   "cell_type": "markdown",
   "metadata": {},
   "source": [
    "#### 1. Сравните метрики hit_rate@k, precision@k. <br>Какую метрику использовать предпочтительно и почему? <br>Приведите пример 2-3 задач (опишите, что является клиентом, что товаром), в которой более уместно использовать метрику hit_rate?\n"
   ]
  },
  {
   "cell_type": "markdown",
   "metadata": {},
   "source": [
    "Метрика Hit_rate@k принемает всего два значения:<br>\"1\" - если хотя бы один релевантный (купленный) товар был среди топ-k рекомендованных<br>и<br>\"0\" - если ни одного релевантного (купленного) товара не было среди топ-k рекомендованных<br>Метрику Hit_rate@k можно интерпретировать как - \"был ли хотя бы один релевантный товар среди топ-k рекомендованных\"\n",
    "\n",
    "Метрика Precision@k показывает долю релевантных товаров среди топ-k рекомендованных.<br>Метрику Precision@k можно интерпретировать как - \"точность наших топ-k рекомендованных товаров\"\n",
    "\n",
    "Для большенства задач предпочтительно использовать метрику Precision@k нежели метрику Hit_rate@k, потому что метрика Precision@k, в отличие от метрики Hit_rate@k, дает более полную информацию о точности наших рекомендаций, позволяет оценить качество нашей рекомендательной модели и при необходимости настраивать модель для улучшения этой метрики. \n",
    "\n",
    "Но есть ряд задач, где уместно использовать Hit_rate. Это рекомендация, что называется \"штучного товара\", таких как машины, квартиры, ювелирные изделия (не в плане украшений, а в плане инвестиций)."
   ]
  },
  {
   "cell_type": "markdown",
   "metadata": {},
   "source": [
    "#### 2. В метрике NDCG@k мы используем логарифм в знаменателе. Как Вы думаете, почему именно логарифм? Какую функцию можно использовать вместо логарифма? Привидите пример метрик/подходов к предобработке данных/функций ошибок в ML, где также в  логарифм.\n",
    "\n"
   ]
  },
  {
   "cell_type": "markdown",
   "metadata": {},
   "source": [
    "Использование логарифма можно объяснить следующими интуитивными соображениями: с точки зрения ранжирования позиции в начале списка отличаются гораздо сильнее, чем позиции в его конце. Так, в случае поискового движка между позициями 1 и 11 целая пропасть (лишь в нескольких случаях из ста пользователь заходит дальшей первой страницы поисковой выдачи), а между позициями 101 и 111 особой разницы нет — до них мало кто доходит. Эти субъективные соображения прекрасно выражаются с помощью логарифма:\n",
    "$$ \\frac{1}{\\log_2(1+1)} - \\frac{1}{\\log_2(1+11)}\\approx0.721,$$ a $$ \\frac{1}{\\log_2(1+101)} - \\frac{1}{\\log_2(1+111)}\\approx0.003.$$\n",
    "\n",
    "Это так же актуально для статей или постов на форумах. Свежие записи должны чаще попадать в топ.<br>Расчет рейтинга в Reddit:$$Rank=\\log_{10}(max(1,U-D))-\\frac{|U-D|T}{const}$$\n",
    "\n",
    "\n",
    "где U = число голосов «за», D = число голосов «против», T = время записи. Первое слагаемое оценивает «качество записи», а второе делает поправку на время.\n",
    "\n",
    "Вместо логарифма, на мой взгляд, можно иcпользовать функцию экспоненты: $$e^{(k-1)}$$"
   ]
  },
  {
   "cell_type": "markdown",
   "metadata": {},
   "source": [
    "#### 3. Какие еще метрики (Вы можете вспомнить уже пройденные Вами или посмотреть в интернете) могут использоваться для рекомендательных систем (приведите примеры метрики **и чем являются интеракции**, чтобы она могла быть использована)."
   ]
  },
  {
   "cell_type": "markdown",
   "metadata": {},
   "source": [
    "\n",
    "$\\large \\ F_1 = 2 \\cdot \\frac{precision \\cdot recall}{precision + recall}$"
   ]
  },
  {
   "cell_type": "markdown",
   "metadata": {},
   "source": [
    "#### 4. boughted = [1, 3, 5, 7, 9, 11]  <br>recommended = [2, 5, 7, 4, 11, 9, 8, 10, 12, 3]  <br> Посчитайте на этих данных pr@8, rec@8, AP@8, NDCG@8, MRR@8 <br> Сначала поссчитайет \"руками\", а затем подтвердите рассчеты с помощью функций (некоторые были на семинаре, некоторые нужно будут написать самостоятельно)\n",
    "\n",
    "#### IDCG должен считаться для всех 8 позиций рекомендаций"
   ]
  },
  {
   "cell_type": "code",
   "execution_count": 2,
   "metadata": {},
   "outputs": [],
   "source": [
    "recommended = [2, 5, 7, 4, 11, 9, 8, 10, 12, 3]\n",
    "boughted = [1, 3, 5, 7, 9, 11]"
   ]
  },
  {
   "cell_type": "markdown",
   "metadata": {},
   "source": [
    "$pr@8 = \\frac{0 + 0 + 1 + 1 + 1 +1}{8} = 50\\%$ "
   ]
  },
  {
   "cell_type": "code",
   "execution_count": 3,
   "metadata": {},
   "outputs": [],
   "source": [
    "def precision_at_k(recommended_list, bought_list, k):\n",
    "    \n",
    "    bought_list = np.array(boughted)\n",
    "    recommended_list = np.array(recommended)[:k]\n",
    "    \n",
    "    flags = np.isin(bought_list, recommended_list)\n",
    "    \n",
    "    precision = flags.sum() / len(recommended_list)\n",
    "    \n",
    "    return precision"
   ]
  },
  {
   "cell_type": "code",
   "execution_count": 4,
   "metadata": {},
   "outputs": [
    {
     "data": {
      "text/plain": [
       "0.5"
      ]
     },
     "execution_count": 4,
     "metadata": {},
     "output_type": "execute_result"
    }
   ],
   "source": [
    "precision_at_k(recommended, boughted, k=8)"
   ]
  },
  {
   "cell_type": "markdown",
   "metadata": {},
   "source": [
    "$rec@8 = \\frac{0 + 0 + 1 + 1 + 1 +1}{6}\\approx67\\%$ "
   ]
  },
  {
   "cell_type": "code",
   "execution_count": 5,
   "metadata": {},
   "outputs": [],
   "source": [
    "def recall_at_k(recommended_list, bought_list, k):\n",
    "    \n",
    "    bought_list = np.array(boughted)\n",
    "    recommended_list = np.array(recommended)[:k]\n",
    "    \n",
    "    flags = np.isin(bought_list, recommended_list)\n",
    "    \n",
    "    recall = flags.sum() / len(bought_list)\n",
    "    \n",
    "    return recall"
   ]
  },
  {
   "cell_type": "code",
   "execution_count": 6,
   "metadata": {},
   "outputs": [
    {
     "data": {
      "text/plain": [
       "0.6666666666666666"
      ]
     },
     "execution_count": 6,
     "metadata": {},
     "output_type": "execute_result"
    }
   ],
   "source": [
    "recall_at_k(recommended, boughted, k=8)"
   ]
  },
  {
   "cell_type": "markdown",
   "metadata": {},
   "source": [
    "$ap@8=\\frac{1}{8}(\\frac{0}{1}+\\frac{1}{2}+\\frac{2}{3}+\\frac{0}{4}+\\frac{3}{5}+\\frac{4}{6}+\\frac{0}{7}+\\frac{0}{8})\\approx0.30417$"
   ]
  },
  {
   "cell_type": "code",
   "execution_count": 7,
   "metadata": {},
   "outputs": [],
   "source": [
    "def ap_k(recommended_list, bought_list, k):\n",
    "    \n",
    "    bought_list = np.array(boughted)\n",
    "    recommended_list = np.array(recommended)[:k]\n",
    "    \n",
    "    flags = np.isin(recommended_list, bought_list)\n",
    "   \n",
    "    if sum(flags) == 0:\n",
    "        return 0\n",
    "    \n",
    "    sum_ = 0\n",
    "    for i in range(1, k+1): \n",
    "        \n",
    "        if flags[i-1] == True:\n",
    "            p_k = precision_at_k(recommended_list, bought_list, k=i)\n",
    "            sum_ += p_k\n",
    "            \n",
    "    result = sum_ / len(flags)\n",
    "    \n",
    "    return result"
   ]
  },
  {
   "cell_type": "code",
   "execution_count": 8,
   "metadata": {},
   "outputs": [
    {
     "data": {
      "text/plain": [
       "0.30416666666666664"
      ]
     },
     "execution_count": 8,
     "metadata": {},
     "output_type": "execute_result"
    }
   ],
   "source": [
    "ap_k(recommended, boughted, k=8)"
   ]
  },
  {
   "cell_type": "markdown",
   "metadata": {},
   "source": [
    "$$NDCG = \\frac{DCG}{ideal DCG}$$\n",
    "\n",
    "$DCG@8 = \\frac{1}{8}*(0 / 1 + 1 / \\log_2(2) + 1 / \\log_2(3) + 0 / \\log_2(4) + 1 / \\log_2(5) + 1 / \\log_2(6) + 0 / \\log_2(7) + 0 / \\log_2(8))\\approx0,3061$  \n",
    "$ideal DCG@8 = \\frac{1}{8}*((1 / 1 + 1 / \\log_2(2) + 1 / \\log_2(3) + 1 / \\log_2(4) + 1 / \\log_2(5) + 1 / \\log_2(6) + 1 / \\log_2(7) + 1 / \\log_2(8))\\approx0,5797$  \n",
    "\n",
    "$NDCG = \\frac{0,3061}{0,5797}\\approx0,528$"
   ]
  },
  {
   "cell_type": "code",
   "execution_count": 9,
   "metadata": {},
   "outputs": [],
   "source": [
    "def ndcg_k(recommended_list, bought_list, k):\n",
    "    \n",
    "    bought_list = np.array(boughted)\n",
    "    recommended_list = np.array(recommended)[:k]\n",
    "    \n",
    "    flags = np.isin(recommended_list, bought_list)\n",
    "   \n",
    "    if sum(flags) == 0:\n",
    "        return 0\n",
    "    \n",
    "    if flags[0] == True:\n",
    "            sum_d = 1\n",
    "    else: \n",
    "            sum_d = 0\n",
    "    \n",
    "    for i in range(1, k): \n",
    "        \n",
    "        if flags[i] == True:\n",
    "            d_ = 1 / np.log2(i + 1)\n",
    "            sum_d += d_\n",
    "            \n",
    "    dcg_k = sum_d / len(flags)\n",
    "    \n",
    "    print (f\"DCG_k = {dcg_k}\")\n",
    "    \n",
    "    sum_i = 1\n",
    "    \n",
    "    for i in range(1, k):\n",
    "        i_ = 1 / np.log2(i + 1)\n",
    "        sum_i += i_\n",
    "        \n",
    "    i_dcg_k = sum_i / len(flags)\n",
    "    \n",
    "    print (f\"idealDCG_k = {i_dcg_k}\")\n",
    "    \n",
    "    result = dcg_k / i_dcg_k\n",
    "    \n",
    "    return print(f\"NDCG_k = {result}\")"
   ]
  },
  {
   "cell_type": "code",
   "execution_count": 10,
   "metadata": {},
   "outputs": [
    {
     "name": "stdout",
     "output_type": "stream",
     "text": [
      "DCG_k = 0.30605738985992403\n",
      "idealDCG_k = 0.5797499549150934\n",
      "NDCG_k = 0.5279127445637272\n"
     ]
    }
   ],
   "source": [
    "ndcg_k(recommended, boughted, k=8)"
   ]
  },
  {
   "cell_type": "markdown",
   "metadata": {},
   "source": [
    "$mrr@8=\\frac{1}{8}(\\frac{0}{1}+\\frac{1}{2}+\\frac{1}{3}+\\frac{0}{4}+\\frac{1}{5}+\\frac{1}{6}+\\frac{0}{7}+\\frac{0}{8})=0.15$"
   ]
  },
  {
   "cell_type": "code",
   "execution_count": 11,
   "metadata": {},
   "outputs": [],
   "source": [
    "def reciprocal_rank(recommended_list, bought_list, k):\n",
    "    ranks=0\n",
    "    recommended_list = (recommended_list)[:k]\n",
    "    for i, item_rec in enumerate(recommended_list):\n",
    "        for item_bought in bought_list:\n",
    "            if item_rec == item_bought:\n",
    "                ranks += 1 / (i+1)\n",
    "    return ranks / len(recommended_list)"
   ]
  },
  {
   "cell_type": "code",
   "execution_count": 12,
   "metadata": {},
   "outputs": [
    {
     "data": {
      "text/plain": [
       "0.15"
      ]
     },
     "execution_count": 12,
     "metadata": {},
     "output_type": "execute_result"
    }
   ],
   "source": [
    "reciprocal_rank(recommended, boughted, k=8)"
   ]
  }
 ],
 "metadata": {
  "kernelspec": {
   "display_name": "Python 3",
   "language": "python",
   "name": "python3"
  },
  "language_info": {
   "codemirror_mode": {
    "name": "ipython",
    "version": 3
   },
   "file_extension": ".py",
   "mimetype": "text/x-python",
   "name": "python",
   "nbconvert_exporter": "python",
   "pygments_lexer": "ipython3",
   "version": "3.8.3"
  }
 },
 "nbformat": 4,
 "nbformat_minor": 2
}
