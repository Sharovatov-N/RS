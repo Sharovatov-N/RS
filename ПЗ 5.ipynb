{
 "cells": [
  {
   "cell_type": "markdown",
   "metadata": {},
   "source": [
    "## Урок 5"
   ]
  },
  {
   "cell_type": "markdown",
   "metadata": {},
   "source": [
    "### Теоретическая часть"
   ]
  },
  {
   "cell_type": "markdown",
   "metadata": {},
   "source": [
    "\n",
    "1. Ответьте на вопросы:  \n",
    "В чем принципиальное отличие гибридных рекомендательных систем от коллаборативной филтьтрации?\n",
    "\n",
    "\n",
    "- Коллаборативная фильтрация не имеет никакой дополнительной информации кроме матрицы интеракций.<br> Гибридные рекомендательные системы имеют всю ту же информацию что и коллаборативная фильтрация плюс дополнительная информация о пользователях и товарах (возраст, пол, цвет и т.п.).\n",
    "\n",
    "Приведите 2-3 примера задач, в которых необходимо использовать гибридные системы  \n",
    "\n",
    "\n",
    "- Если постоянно появляются новые товары и новые пользователи, к примеру фондовая биржа.<br> Интернет-магазина имеет множество features, благодаря этим featuгes, при появление нового товара можно рекомендовать его клинтеу опираясь на спецификах похожего старого товара."
   ]
  },
  {
   "cell_type": "markdown",
   "metadata": {},
   "source": [
    "2.  Прочитайте статью про поиск на hh.ru https://habr.com/ru/company/hh/blog/347276/\n",
    "Нам интересна именно рекомендательная система, раздел \"Производительность системы\" можно пропустить.\n",
    "\n",
    "\n",
    "Какие основные отличия предложенной системы от тех подходов, которые мы разбирали на семинарах?\n",
    "\n",
    "\n",
    "- Используется ансамблирование алгоритмов. А именно воронка фильтров на первом этапе (линейную и логит), чтобы отсечь все лишнее, а затем XGBoost для ранжирования. XGboost вступает, после того, как уже отфильтрованы вручную и программными методами значительная часть признаков. И на этапе ранжирования алгоритм приоритезирует рекламные вакансии, что помогает монетизировать бизнес компании.\n",
    "\n",
    "Какие проблемы могут возникнуть при выводе такой модели в продакшен?\n",
    "\n",
    "- При запуске подобной системы в продакшне основной проблемой было то, что проектируемая система требовала больше имеющихся ресурсов на существующих серверах. Ресурсы нужны были для того, что посчитать по резюме и по вакансии признаки, а потом — парные для их сочетания. Также, при включении поиска по пустому запросу нагрузка на поисковую систему должна была вырасти примерно в 6 раз, поэтому потребовалось кешировать признаки для резюме."
   ]
  },
  {
   "cell_type": "markdown",
   "metadata": {},
   "source": [
    "3. На вебинаре мы рассматривали модель LightFM (https://making.lyst.com/lightfm/docs/lightfm.html). В работе Data Scientist'а важную часть занимает research - исследование существующих архитектур и разбор научных статей, в которых они описываются. Вам предлагается изчуть оригинальную статью про LightFM https://arxiv.org/pdf/1507.08439.pdf и ответить на следующие вопросы:  \n",
    "1) Какой датасет используют авторы?\n",
    "\n",
    "\n",
    "- MovieLens 10M датасет объединеный с Tag Genome сетом.\n",
    "- CrossValidated датасет.\n",
    "\n",
    "2) Что используют в качестве признаков?\n",
    "\n",
    "- B качестве признаков использовали тэги и описания/информацию о \"пользователях\" и \"товарах\" (жанр, и список меток). \n",
    "- Информация о пользователях была доступна только для CrossValidated датасета (таги вопросов, мета юзеров).\n",
    "\n",
    "3) С какими моделями сравнивают LightFM? Опишите их основные идеи кратко \n",
    "\n",
    "- Сравнивают с коллаборативной моделью матричной факторизации. Отличие от collaborative MF model в том, что LightFM расширяет её за счёт использования доп. признаков. Если на вход в LightFM подать только матрицу интеракций, то она сведётся к collaborative MF model."
   ]
  },
  {
   "cell_type": "markdown",
   "metadata": {},
   "source": [
    "### Практическая часть\n"
   ]
  },
  {
   "cell_type": "code",
   "execution_count": 3,
   "metadata": {},
   "outputs": [
    {
     "name": "stdout",
     "output_type": "stream",
     "text": [
      "Collecting lightfm\n",
      "  Downloading lightfm-1.16.tar.gz (310 kB)\n",
      "\u001b[K     |████████████████████████████████| 310 kB 1.5 MB/s eta 0:00:01\n",
      "\u001b[?25hRequirement already satisfied: numpy in /home/nicolay/anaconda3/lib/python3.8/site-packages (from lightfm) (1.18.5)\n",
      "Requirement already satisfied: scipy>=0.17.0 in /home/nicolay/anaconda3/lib/python3.8/site-packages (from lightfm) (1.5.0)\n",
      "Requirement already satisfied: requests in /home/nicolay/anaconda3/lib/python3.8/site-packages (from lightfm) (2.24.0)\n",
      "Requirement already satisfied: scikit-learn in /home/nicolay/anaconda3/lib/python3.8/site-packages (from lightfm) (0.23.1)\n",
      "Requirement already satisfied: idna<3,>=2.5 in /home/nicolay/anaconda3/lib/python3.8/site-packages (from requests->lightfm) (2.10)\n",
      "Requirement already satisfied: urllib3!=1.25.0,!=1.25.1,<1.26,>=1.21.1 in /home/nicolay/anaconda3/lib/python3.8/site-packages (from requests->lightfm) (1.25.9)\n",
      "Requirement already satisfied: certifi>=2017.4.17 in /home/nicolay/anaconda3/lib/python3.8/site-packages (from requests->lightfm) (2020.6.20)\n",
      "Requirement already satisfied: chardet<4,>=3.0.2 in /home/nicolay/anaconda3/lib/python3.8/site-packages (from requests->lightfm) (3.0.4)\n",
      "Requirement already satisfied: threadpoolctl>=2.0.0 in /home/nicolay/anaconda3/lib/python3.8/site-packages (from scikit-learn->lightfm) (2.1.0)\n",
      "Requirement already satisfied: joblib>=0.11 in /home/nicolay/anaconda3/lib/python3.8/site-packages (from scikit-learn->lightfm) (0.16.0)\n",
      "Building wheels for collected packages: lightfm\n",
      "  Building wheel for lightfm (setup.py) ... \u001b[?25ldone\n",
      "\u001b[?25h  Created wheel for lightfm: filename=lightfm-1.16-cp38-cp38-linux_x86_64.whl size=957067 sha256=d71b5da0f89ca609f6d54ab492fef06aede8d95748ec78855cdc7a65b1e28a01\n",
      "  Stored in directory: /home/nicolay/.cache/pip/wheels/ec/bb/51/9c487d021c1373b691d13cadca0b65b6852627b1f3f43550fa\n",
      "Successfully built lightfm\n",
      "Installing collected packages: lightfm\n",
      "Successfully installed lightfm-1.16\n"
     ]
    }
   ],
   "source": [
    "!pip install lightfm"
   ]
  },
  {
   "cell_type": "code",
   "execution_count": 4,
   "metadata": {},
   "outputs": [],
   "source": [
    "import lightfm"
   ]
  },
  {
   "cell_type": "code",
   "execution_count": 5,
   "metadata": {},
   "outputs": [],
   "source": [
    "# import data\n",
    "# utils functions like in webinar"
   ]
  },
  {
   "cell_type": "markdown",
   "metadata": {},
   "source": [
    "### Модуль SRC"
   ]
  },
  {
   "cell_type": "markdown",
   "metadata": {},
   "source": [
    "На вебинаре было рассказано про модуль src. Он приложен в материалах. Скачайте его, изучите структуру, импортируйте функции"
   ]
  },
  {
   "cell_type": "markdown",
   "metadata": {},
   "source": [
    "### Работа с признаками"
   ]
  },
  {
   "cell_type": "markdown",
   "metadata": {},
   "source": [
    "У нас есть внешние данные. Что с ними не так? Чего не хватает?  \n",
    "\n",
    "Проведите исследование внешних данных и составьте какие-нибудь содержательные выводы.  \n",
    "Формально Вам нужно построить 3+ графиков (scatter plot, hist или что-то иное) и описать, что мы видим (например, товары такой-то категории болле часто покупаются в следующие дни недели или пользователи с большим достатком предпочитают такие-то товары).  \n",
    "Исследуйте те закономерности, которые Вам интересно, чем менее тривиальный вывод получается, тем лучше! "
   ]
  },
  {
   "cell_type": "markdown",
   "metadata": {},
   "source": [
    "### LightFM"
   ]
  },
  {
   "cell_type": "markdown",
   "metadata": {},
   "source": [
    "У этого алогритма есть множество параметров (item/user_alpha, loss, no_components).  \n",
    "Проведите эксперименты аналогично дз 3 (подберите гипперпараметры каким удобно способои и постройте графики)  \n",
    "На выходе необходимо получить pr@5 на валидации (последние 3 недели) > 17%  \n",
    "\n",
    "У Вас, скорее всего, возникнет проблема со временем обучения. Почему они возникает?    \n",
    "\n",
    "Попробуйте запустить алгоритм вообще без фичей или используйте только признаки с небольшим числом уникальных категорий. (item_features['commodity_desc'].unique() - 300 уникальных категорий - это очень много)"
   ]
  },
  {
   "cell_type": "markdown",
   "metadata": {},
   "source": [
    "### *Отбор признаков* * "
   ]
  },
  {
   "cell_type": "markdown",
   "metadata": {},
   "source": [
    "Все данные категориальные, при ohe кодировании для товаров признаков становится невероятно много.      \n",
    "Какие стратегии отбора признаков в классическом ML Вы знаете? Применимы ли они тут?  \n",
    "\n",
    "Попробйте какие-нибудь стратегии. Удалось ли улучшить качество?\n",
    "\n",
    " \\* *задание необязательно*\n"
   ]
  },
  {
   "cell_type": "code",
   "execution_count": null,
   "metadata": {},
   "outputs": [],
   "source": []
  },
  {
   "cell_type": "code",
   "execution_count": null,
   "metadata": {},
   "outputs": [],
   "source": []
  },
  {
   "cell_type": "code",
   "execution_count": null,
   "metadata": {},
   "outputs": [],
   "source": []
  }
 ],
 "metadata": {
  "kernelspec": {
   "display_name": "Python 3",
   "language": "python",
   "name": "python3"
  },
  "language_info": {
   "codemirror_mode": {
    "name": "ipython",
    "version": 3
   },
   "file_extension": ".py",
   "mimetype": "text/x-python",
   "name": "python",
   "nbconvert_exporter": "python",
   "pygments_lexer": "ipython3",
   "version": "3.8.3"
  }
 },
 "nbformat": 4,
 "nbformat_minor": 2
}
